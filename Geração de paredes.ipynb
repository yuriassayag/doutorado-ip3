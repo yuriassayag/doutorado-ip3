{
 "cells": [
  {
   "cell_type": "markdown",
   "id": "233cdb6c",
   "metadata": {},
   "source": [
    "### Declaração das bibliotecas"
   ]
  },
  {
   "cell_type": "code",
   "execution_count": 1,
   "id": "f90d7cb1",
   "metadata": {},
   "outputs": [],
   "source": [
    "import math\n",
    "import json"
   ]
  },
  {
   "cell_type": "markdown",
   "id": "83e96cf0",
   "metadata": {},
   "source": [
    "#### Abre o json com as informações das salas (dimensão)"
   ]
  },
  {
   "cell_type": "code",
   "execution_count": 2,
   "id": "b17f56c3",
   "metadata": {},
   "outputs": [],
   "source": [
    "with open('rooms.json', 'r') as json_file:\n",
    "    rooms = json.load(json_file)"
   ]
  },
  {
   "cell_type": "markdown",
   "id": "39b64534",
   "metadata": {},
   "source": [
    "#### Calcula a quantidade de paredes por intersecção de retas."
   ]
  },
  {
   "cell_type": "code",
   "execution_count": 10,
   "id": "2a359819",
   "metadata": {},
   "outputs": [],
   "source": [
    "class Wall:\n",
    "    def __init__(self, x1, y1, x2, y2):\n",
    "        self.x1 = x1\n",
    "        self.y1 = y1\n",
    "        self.x2 = x2\n",
    "        self.y2 = y2\n",
    "\n",
    "    def interceptPoint(self, x1, y1, x2, y2):\n",
    "        p0_x = self.x1\n",
    "        p0_y = self.y1\n",
    "        p1_x = self.x2\n",
    "        p1_y = self.y2\n",
    "\n",
    "        p2_x = x1\n",
    "        p2_y = y1\n",
    "        p3_x = x2\n",
    "        p3_y = y2\n",
    "        \n",
    "        s1_x = p1_x - p0_x\n",
    "        s1_y = p1_y - p0_y\n",
    "        s2_x = p3_x - p2_x\n",
    "        s2_y = p3_y - p2_y\n",
    "\n",
    "        s = (-s1_y * (p0_x - p2_x) + s1_x * (p0_y - p2_y)) / (-s2_x * s1_y + s1_x * s2_y)\n",
    "        t = ( s2_x * (p0_y - p2_y) - s2_y * (p0_x - p2_x)) / (-s2_x * s1_y + s1_x * s2_y)\n",
    "\n",
    "        if (s >= 0) and (s <= 1) and (t >= 0) and (t <= 1):\n",
    "            intX = p0_x + (t * s1_x)\n",
    "            intY = p0_y + (t * s1_y)\n",
    "            \n",
    "            return [intX, intY];\n",
    "\n",
    "        return -1"
   ]
  },
  {
   "cell_type": "markdown",
   "id": "5420881f",
   "metadata": {},
   "source": [
    "#### Calcula o tamanho de todas as paredes do cenário (top, bottom, right, left)"
   ]
  },
  {
   "cell_type": "code",
   "execution_count": 7,
   "id": "4a52aee5",
   "metadata": {},
   "outputs": [],
   "source": [
    "walls = []\n",
    "\n",
    "for r in rooms['rooms']:\n",
    "    room = rooms['rooms'][r]\n",
    "    \n",
    "    if room['type'] == 'room':\n",
    "        #print(room)\n",
    "        xWidth = room['x']+room['width']\n",
    "        yHeight = room['y']+room['height']\n",
    "\n",
    "        walls.append(Wall(room['x'], room['y'], xWidth   , room['y'] ));\n",
    "        #print('       top:  [',room['x'],',', room['y'],',', xWidth, ',', room['y'], ']')\n",
    "        \n",
    "        walls.append(Wall(xWidth   , room['y'], xWidth   , yHeight   ));\n",
    "        #print('       right:[',xWidth,',', room['y'],',', xWidth, ',', yHeight, ']')\n",
    "        \n",
    "        walls.append(Wall(xWidth   , yHeight  , room['x'], yHeight   ));\n",
    "        #print('      bottom:[',xWidth,',',yHeight,',', room['x'], ',', yHeight, ']')\n",
    "        \n",
    "        walls.append(Wall(room['x'], yHeight  , room['x'], room['y'] ));\n",
    "        #print('      left  :[',room['x'],',',yHeight,',', room['x'], ',', room['y'], ']\\n')"
   ]
  },
  {
   "cell_type": "markdown",
   "id": "0979299f",
   "metadata": {},
   "source": [
    "#### Realiza o cálculo de paredes entre dois pontos usando as funções acima. O primeiro ponto é a posição do beacon, o segundo é  a posição do ponto."
   ]
  },
  {
   "cell_type": "code",
   "execution_count": 5,
   "id": "baddc4f7",
   "metadata": {},
   "outputs": [],
   "source": [
    "def intercept(x1, y1, x2, y2):\n",
    "\n",
    "    if (x1 == x2) and (y1 == y2):\n",
    "        return []\n",
    "\n",
    "    allInterceptions = []\n",
    "    \n",
    "    for wall in walls:\n",
    "        intercept = wall.interceptPoint(x1, y1, x2, y2)\n",
    "\n",
    "        if intercept != -1:\n",
    "            allInterceptions.append(intercept);\n",
    "    \n",
    "    result = []\n",
    "\n",
    "    for testPoint in allInterceptions:\n",
    "        foundClose = 'false'\n",
    "\n",
    "        for resultPoint in result:\n",
    "            dist = math.sqrt(math.pow(testPoint[0] - resultPoint[0], 2) + math.pow(testPoint[1]-resultPoint[1], 2))\n",
    "\n",
    "            if dist < 5:\n",
    "                foundClose = 'true'\n",
    "                break\n",
    "\n",
    "        if foundClose == 'false':\n",
    "            result.append(testPoint)\n",
    "\n",
    "    return result"
   ]
  },
  {
   "cell_type": "code",
   "execution_count": 6,
   "id": "fb2f5726",
   "metadata": {},
   "outputs": [
    {
     "name": "stdout",
     "output_type": "stream",
     "text": [
      "Paredes: 5\n"
     ]
    }
   ],
   "source": [
    "p1 = [397,416]\n",
    "p2 = [2645,607]\n",
    "\n",
    "res = len(intercept(p1[0],p1[1],p2[0],p2[1]))\n",
    "print('Paredes:', res)"
   ]
  },
  {
   "cell_type": "code",
   "execution_count": null,
   "id": "860617e6",
   "metadata": {},
   "outputs": [],
   "source": []
  },
  {
   "cell_type": "code",
   "execution_count": null,
   "id": "cee0e643",
   "metadata": {},
   "outputs": [],
   "source": []
  }
 ],
 "metadata": {
  "kernelspec": {
   "display_name": "Python 3 (ipykernel)",
   "language": "python",
   "name": "python3"
  },
  "language_info": {
   "codemirror_mode": {
    "name": "ipython",
    "version": 3
   },
   "file_extension": ".py",
   "mimetype": "text/x-python",
   "name": "python",
   "nbconvert_exporter": "python",
   "pygments_lexer": "ipython3",
   "version": "3.9.13"
  }
 },
 "nbformat": 4,
 "nbformat_minor": 5
}
