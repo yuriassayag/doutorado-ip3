{
 "cells": [
  {
   "cell_type": "markdown",
   "id": "233cdb6c",
   "metadata": {},
   "source": [
    "### Declaração das bibliotecas"
   ]
  },
  {
   "cell_type": "code",
   "execution_count": 1,
   "id": "6f894932",
   "metadata": {},
   "outputs": [],
   "source": [
    "import pandas as pd\n",
    "import numpy as np\n",
    "import json\n",
    "import math\n",
    "from sklearn import preprocessing\n",
    "from sklearn.preprocessing import MinMaxScaler\n",
    "from sklearn.neighbors import KNeighborsClassifier\n",
    "from sklearn.pipeline import Pipeline"
   ]
  },
  {
   "cell_type": "markdown",
   "id": "83e96cf0",
   "metadata": {},
   "source": [
    "#### Abre o json com as informações das salas (dimensão)"
   ]
  },
  {
   "cell_type": "code",
   "execution_count": 2,
   "id": "b17f56c3",
   "metadata": {},
   "outputs": [],
   "source": [
    "with open('rooms.json', 'r') as json_file:\n",
    "    rooms = json.load(json_file)"
   ]
  },
  {
   "cell_type": "markdown",
   "id": "39b64534",
   "metadata": {},
   "source": [
    "#### Calcula a quantidade de paredes por intersecção de retas."
   ]
  },
  {
   "cell_type": "code",
   "execution_count": 3,
   "id": "2a359819",
   "metadata": {},
   "outputs": [],
   "source": [
    "class Wall:\n",
    "    def __init__(self, x1, y1, x2, y2):\n",
    "        self.x1 = x1\n",
    "        self.y1 = y1\n",
    "        self.x2 = x2\n",
    "        self.y2 = y2\n",
    "        self.room = room\n",
    "\n",
    "    def interceptPoint(self, x1, y1, x2, y2):\n",
    "        p0_x = self.x1\n",
    "        p0_y = self.y1\n",
    "        p1_x = self.x2\n",
    "        p1_y = self.y2\n",
    "\n",
    "        p2_x = x1\n",
    "        p2_y = y1\n",
    "        p3_x = x2\n",
    "        p3_y = y2\n",
    "        \n",
    "        s1_x = p1_x - p0_x\n",
    "        s1_y = p1_y - p0_y\n",
    "        s2_x = p3_x - p2_x\n",
    "        s2_y = p3_y - p2_y\n",
    "\n",
    "        s = (-s1_y * (p0_x - p2_x) + s1_x * (p0_y - p2_y)) / (-s2_x * s1_y + s1_x * s2_y)\n",
    "        t = ( s2_x * (p0_y - p2_y) - s2_y * (p0_x - p2_x)) / (-s2_x * s1_y + s1_x * s2_y)\n",
    "\n",
    "        if (s >= 0) and (s <= 1) and (t >= 0) and (t <= 1):\n",
    "            intX = p0_x + (t * s1_x)\n",
    "            intY = p0_y + (t * s1_y)\n",
    "            \n",
    "            return [intX, intY];\n",
    "\n",
    "        return -1"
   ]
  },
  {
   "cell_type": "markdown",
   "id": "5420881f",
   "metadata": {},
   "source": [
    "#### Calcula o tamanho de todas as paredes do cenário (top, bottom, right, left)"
   ]
  },
  {
   "cell_type": "code",
   "execution_count": 4,
   "id": "4a52aee5",
   "metadata": {},
   "outputs": [
    {
     "name": "stdout",
     "output_type": "stream",
     "text": [
      "{'id': 'R41', 'type': 'room', 'name': 'Sala 10', 'width': 575.31, 'height': 876.35, 'x': 50, 'y': 50}\n",
      "       top:  [ 50 , 50 , 625.31 , 50 ]\n",
      "       right:[ 625.31 , 50 , 625.31 , 926.35 ]\n",
      "      bottom:[ 625.31 , 926.35 , 50 , 926.35 ]\n",
      "      left  :[ 50 , 926.35 , 50 , 50 ]\n",
      "\n",
      "{'id': 'R16', 'type': 'room', 'name': 'Lab. Informática', 'width': 1005.48, 'height': 640.17, 'x': 50, 'y': 926.35}\n",
      "       top:  [ 50 , 926.35 , 1055.48 , 926.35 ]\n",
      "       right:[ 1055.48 , 926.35 , 1055.48 , 1566.52 ]\n",
      "      bottom:[ 1055.48 , 1566.52 , 50 , 1566.52 ]\n",
      "      left  :[ 50 , 1566.52 , 50 , 926.35 ]\n",
      "\n",
      "{'id': 'R57', 'type': 'room', 'name': 'Sala Profs', 'width': 329.29, 'height': 711.29, 'x': 625.31, 'y': 50}\n",
      "       top:  [ 625.31 , 50 , 954.5999999999999 , 50 ]\n",
      "       right:[ 954.5999999999999 , 50 , 954.5999999999999 , 761.29 ]\n",
      "      bottom:[ 954.5999999999999 , 761.29 , 625.31 , 761.29 ]\n",
      "      left  :[ 625.31 , 761.29 , 625.31 , 50 ]\n",
      "\n",
      "{'id': 'R40', 'type': 'room', 'name': 'Sala 11', 'width': 589.25, 'height': 669.24, 'x': 1568.91, 'y': 50}\n",
      "       top:  [ 1568.91 , 50 , 2158.16 , 50 ]\n",
      "       right:[ 2158.16 , 50 , 2158.16 , 719.24 ]\n",
      "      bottom:[ 2158.16 , 719.24 , 1568.91 , 719.24 ]\n",
      "      left  :[ 1568.91 , 719.24 , 1568.91 , 50 ]\n",
      "\n",
      "{'id': 'R53', 'type': 'room', 'name': 'Sala 13', 'width': 800.54, 'height': 669.24, 'x': 2158.17, 'y': 50}\n",
      "       top:  [ 2158.17 , 50 , 2958.71 , 50 ]\n",
      "       right:[ 2958.71 , 50 , 2958.71 , 719.24 ]\n",
      "      bottom:[ 2958.71 , 719.24 , 2158.17 , 719.24 ]\n",
      "      left  :[ 2158.17 , 719.24 , 2158.17 , 50 ]\n",
      "\n",
      "{'id': 'R39', 'type': 'room', 'name': 'Sala 16', 'width': 667.81, 'height': 669.24, 'x': 2958.7, 'y': 50}\n",
      "       top:  [ 2958.7 , 50 , 3626.5099999999998 , 50 ]\n",
      "       right:[ 3626.5099999999998 , 50 , 3626.5099999999998 , 719.24 ]\n",
      "      bottom:[ 3626.5099999999998 , 719.24 , 2958.7 , 719.24 ]\n",
      "      left  :[ 2958.7 , 719.24 , 2958.7 , 50 ]\n",
      "\n",
      "{'id': 'R47', 'type': 'room', 'name': 'Sala 17', 'width': 806.57, 'height': 669.24, 'x': 3626.51, 'y': 50}\n",
      "       top:  [ 3626.51 , 50 , 4433.08 , 50 ]\n",
      "       right:[ 4433.08 , 50 , 4433.08 , 719.24 ]\n",
      "      bottom:[ 4433.08 , 719.24 , 3626.51 , 719.24 ]\n",
      "      left  :[ 3626.51 , 719.24 , 3626.51 , 50 ]\n",
      "\n",
      "{'id': 'R46', 'type': 'room', 'name': 'Sala 12', 'width': 799.58, 'height': 633.32, 'x': 1360.21, 'y': 935.02}\n",
      "       top:  [ 1360.21 , 935.02 , 2159.79 , 935.02 ]\n",
      "       right:[ 2159.79 , 935.02 , 2159.79 , 1568.3400000000001 ]\n",
      "      bottom:[ 2159.79 , 1568.3400000000001 , 1360.21 , 1568.3400000000001 ]\n",
      "      left  :[ 1360.21 , 1568.3400000000001 , 1360.21 , 935.02 ]\n",
      "\n",
      "{'id': 'R43', 'type': 'room', 'name': 'Sala 14', 'width': 800.39, 'height': 633.32, 'x': 2158.65, 'y': 935.02}\n",
      "       top:  [ 2158.65 , 935.02 , 2959.04 , 935.02 ]\n",
      "       right:[ 2959.04 , 935.02 , 2959.04 , 1568.3400000000001 ]\n",
      "      bottom:[ 2959.04 , 1568.3400000000001 , 2158.65 , 1568.3400000000001 ]\n",
      "      left  :[ 2158.65 , 1568.3400000000001 , 2158.65 , 935.02 ]\n",
      "\n",
      "{'id': 'R45', 'type': 'room', 'name': 'Sala 15', 'width': 802.37, 'height': 633.32, 'x': 2959.04, 'y': 935.02}\n",
      "       top:  [ 2959.04 , 935.02 , 3761.41 , 935.02 ]\n",
      "       right:[ 3761.41 , 935.02 , 3761.41 , 1568.3400000000001 ]\n",
      "      bottom:[ 3761.41 , 1568.3400000000001 , 2959.04 , 1568.3400000000001 ]\n",
      "      left  :[ 2959.04 , 1568.3400000000001 , 2959.04 , 935.02 ]\n",
      "\n",
      "{'id': 'R51', 'type': 'room', 'name': 'Sala 18', 'width': 671.66, 'height': 849.1, 'x': 3761.41, 'y': 719.24}\n",
      "       top:  [ 3761.41 , 719.24 , 4433.07 , 719.24 ]\n",
      "       right:[ 4433.07 , 719.24 , 4433.07 , 1568.3400000000001 ]\n",
      "      bottom:[ 4433.07 , 1568.3400000000001 , 3761.41 , 1568.3400000000001 ]\n",
      "      left  :[ 3761.41 , 1568.3400000000001 , 3761.41 , 719.24 ]\n",
      "\n",
      "{'id': 'R33', 'type': 'room', 'name': 'B. F.', 'width': 306.81, 'height': 637.13, 'x': 954.6, 'y': 50}\n",
      "       top:  [ 954.6 , 50 , 1261.41 , 50 ]\n",
      "       right:[ 1261.41 , 50 , 1261.41 , 687.13 ]\n",
      "      bottom:[ 1261.41 , 687.13 , 954.6 , 687.13 ]\n",
      "      left  :[ 954.6 , 687.13 , 954.6 , 50 ]\n",
      "\n",
      "{'id': 'R44', 'type': 'room', 'name': 'Sala 9', 'width': 722.92, 'height': 608.16, 'x': 50, 'y': 1566.52}\n",
      "       top:  [ 50 , 1566.52 , 772.92 , 1566.52 ]\n",
      "       right:[ 772.92 , 1566.52 , 772.92 , 2174.68 ]\n",
      "      bottom:[ 772.92 , 2174.68 , 50 , 2174.68 ]\n",
      "      left  :[ 50 , 2174.68 , 50 , 1566.52 ]\n",
      "\n",
      "{'id': 'R42', 'type': 'room', 'name': 'Sala 8', 'width': 722.92, 'height': 853.9, 'x': 50, 'y': 2174.68}\n",
      "       top:  [ 50 , 2174.68 , 772.92 , 2174.68 ]\n",
      "       right:[ 772.92 , 2174.68 , 772.92 , 3028.58 ]\n",
      "      bottom:[ 772.92 , 3028.58 , 50 , 3028.58 ]\n",
      "      left  :[ 50 , 3028.58 , 50 , 2174.68 ]\n",
      "\n",
      "{'id': 'R32', 'type': 'room', 'name': 'B. M.', 'width': 307.5, 'height': 637.13, 'x': 1261.41, 'y': 50}\n",
      "       top:  [ 1261.41 , 50 , 1568.91 , 50 ]\n",
      "       right:[ 1568.91 , 50 , 1568.91 , 687.13 ]\n",
      "      bottom:[ 1568.91 , 687.13 , 1261.41 , 687.13 ]\n",
      "      left  :[ 1261.41 , 687.13 , 1261.41 , 50 ]\n",
      "\n",
      "{'id': 'R49', 'type': 'room', 'name': 'Sala 7', 'width': 867.64, 'height': 513.99, 'x': 772.92, 'y': 2514.58}\n",
      "       top:  [ 772.92 , 2514.58 , 1640.56 , 2514.58 ]\n",
      "       right:[ 1640.56 , 2514.58 , 1640.56 , 3028.5699999999997 ]\n",
      "      bottom:[ 1640.56 , 3028.5699999999997 , 772.92 , 3028.5699999999997 ]\n",
      "      left  :[ 772.92 , 3028.5699999999997 , 772.92 , 2514.58 ]\n",
      "\n"
     ]
    }
   ],
   "source": [
    "walls = []\n",
    "\n",
    "for r in rooms['rooms']:\n",
    "    room = rooms['rooms'][r]\n",
    "    \n",
    "    if room['type'] == 'room':\n",
    "        print(room)\n",
    "        xWidth = room['x']+room['width']\n",
    "        yHeight = room['y']+room['height']\n",
    "\n",
    "        walls.append(Wall(room['x'], room['y'], xWidth   , room['y'] ));\n",
    "        print('       top:  [',room['x'],',', room['y'],',', xWidth, ',', room['y'], ']')\n",
    "        \n",
    "        walls.append(Wall(xWidth   , room['y'], xWidth   , yHeight   ));\n",
    "        print('       right:[',xWidth,',', room['y'],',', xWidth, ',', yHeight, ']')\n",
    "        \n",
    "        walls.append(Wall(xWidth   , yHeight  , room['x'], yHeight   ));\n",
    "        print('      bottom:[',xWidth,',',yHeight,',', room['x'], ',', yHeight, ']')\n",
    "        \n",
    "        walls.append(Wall(room['x'], yHeight  , room['x'], room['y'] ));\n",
    "        print('      left  :[',room['x'],',',yHeight,',', room['x'], ',', room['y'], ']\\n')"
   ]
  },
  {
   "cell_type": "markdown",
   "id": "0979299f",
   "metadata": {},
   "source": [
    "#### Realiza o cálculo de paredes entre dois pontos usando as funções acima. O primeiro ponto é a posição do beacon, o segundo é  a posição do ponto."
   ]
  },
  {
   "cell_type": "code",
   "execution_count": 5,
   "id": "baddc4f7",
   "metadata": {},
   "outputs": [],
   "source": [
    "def intercept(x1, y1, x2, y2):\n",
    "\n",
    "    if (x1 == x2) and (y1 == y2):\n",
    "        return []\n",
    "\n",
    "    allInterceptions = []\n",
    "    \n",
    "    for wall in walls:\n",
    "        intercept = wall.interceptPoint(x1, y1, x2, y2)\n",
    "\n",
    "        if intercept != -1:\n",
    "            allInterceptions.append(intercept);\n",
    "    \n",
    "    result = []\n",
    "\n",
    "    for testPoint in allInterceptions:\n",
    "        foundClose = 'false'\n",
    "\n",
    "        for resultPoint in result:\n",
    "            dist = math.sqrt(math.pow(testPoint[0] - resultPoint[0], 2) + math.pow(testPoint[1]-resultPoint[1], 2))\n",
    "\n",
    "            if dist < 5:\n",
    "                foundClose = 'true'\n",
    "                break\n",
    "\n",
    "        if foundClose == 'false':\n",
    "            result.append(testPoint)\n",
    "\n",
    "    return result"
   ]
  },
  {
   "cell_type": "code",
   "execution_count": 6,
   "id": "fb2f5726",
   "metadata": {},
   "outputs": [
    {
     "name": "stdout",
     "output_type": "stream",
     "text": [
      "Paredes: 5\n"
     ]
    }
   ],
   "source": [
    "p1 = [397,416]\n",
    "p2 = [2645,607]\n",
    "\n",
    "res = len(intercept(p1[0],p1[1],p2[0],p2[1]))\n",
    "print('Paredes:', res)"
   ]
  },
  {
   "cell_type": "code",
   "execution_count": null,
   "id": "bd42b307",
   "metadata": {},
   "outputs": [],
   "source": []
  },
  {
   "cell_type": "code",
   "execution_count": null,
   "id": "cee0e643",
   "metadata": {},
   "outputs": [],
   "source": []
  }
 ],
 "metadata": {
  "kernelspec": {
   "display_name": "Python 3 (ipykernel)",
   "language": "python",
   "name": "python3"
  },
  "language_info": {
   "codemirror_mode": {
    "name": "ipython",
    "version": 3
   },
   "file_extension": ".py",
   "mimetype": "text/x-python",
   "name": "python",
   "nbconvert_exporter": "python",
   "pygments_lexer": "ipython3",
   "version": "3.9.13"
  }
 },
 "nbformat": 4,
 "nbformat_minor": 5
}
